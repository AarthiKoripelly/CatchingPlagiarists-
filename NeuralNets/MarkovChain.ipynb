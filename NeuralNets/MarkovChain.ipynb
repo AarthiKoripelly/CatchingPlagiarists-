{
 "cells": [
  {
   "cell_type": "code",
   "execution_count": 8,
   "metadata": {},
   "outputs": [],
   "source": [
    "import numpy \n",
    "import random "
   ]
  },
  {
   "cell_type": "code",
   "execution_count": 9,
   "metadata": {},
   "outputs": [],
   "source": [
    "#states\n",
    "states = [\"Sleep\", \"Work\", \"Read\"]\n",
    "\n",
    "#possibilities  \n",
    "#sleeping, then working or sleeping, then reading, or sleeping then sleeping for example\n",
    "transitionName = [[\"SW\", \"SR\", \"SS\"], [\"WS\", \"WR\", \"WW\"], [\"RW\", \"RS\", \"RR\"]]\n",
    "placer = [[\"Work\", \"Read\", \"Sleep\"], [\"Sleep\", \"Read\", \"Work\"], [\"Work\", \"Sleep\", \"Read\"]]\n",
    "#probablities of events occurring after one another  \n",
    "transMatrix = [[0.5, 0.4, 0.1], [0.7, 0.2, 0.1], [0.2, 0.7, 0.1]]\n",
    "\n",
    "if sum(transMatrix[0])+sum(transMatrix[1])+sum(transMatrix[2]) != 3:\n",
    "    print(\"Recheck transition matrix probabilities.\")"
   ]
  },
  {
   "cell_type": "code",
   "execution_count": 10,
   "metadata": {},
   "outputs": [],
   "source": [
    "def prediction(state, days):\n",
    "    #start \n",
    "    act = state\n",
    "    print(\"Start state: \" + act)\n",
    "    \n",
    "    #append in future for string \n",
    "    actList = [act]\n",
    "    \n",
    "    if (act == \"Sleep\") or (act == \"Work\") or (act == \"Read\"):\n",
    "        i = 0\n",
    "        prob = 1\n",
    "        \n",
    "        while i != days:\n",
    "            if act == \"Sleep\":\n",
    "                change = numpy.random.choice(transitionName[0], replace = True, p=transMatrix[0])\n",
    "                for p in range(len(transitionName)):\n",
    "                    for j in range(len(transitionName)):\n",
    "                        if change == str(transitionName[p][j]):\n",
    "                            prob = prob * transMatrix[p][j]\n",
    "                            actList.append(placer[p][j])\n",
    "                            act = placer[p][j]\n",
    "                            \n",
    "            elif act == \"Work\":\n",
    "                change = numpy.random.choice(transitionName[1], replace = True, p=transMatrix[1])\n",
    "                for p in range(len(transitionName)):\n",
    "                    for j in range(len(transitionName)):\n",
    "                        if change == str(transitionName[p][j]):\n",
    "                            prob = prob * transMatrix[p][j]\n",
    "                            actList.append(placer[p][j])\n",
    "                            act = placer[p][j]\n",
    "                \n",
    "            elif act == \"Read\":\n",
    "                change = numpy.random.choice(transitionName[2], replace = True, p=transMatrix[2])\n",
    "                for p in range(len(transitionName)):\n",
    "                    for j in range(len(transitionName)):\n",
    "                        if change == str(transitionName[p][j]):\n",
    "                            prob = prob * transMatrix[p][j]\n",
    "                            actList.append(placer[p][j])\n",
    "                            act = placer[p][j]\n",
    "            i += 1 \n",
    "        print(\"Outcome states: \" + str(actList))\n",
    "        print(\"End state after \" + str(days) + \" days: \" + str(act))\n",
    "        print(\"Probability of states: \" + str(prob))\n",
    "    else: print(\"Redo method without valid state.\")\n",
    "                "
   ]
  },
  {
   "cell_type": "code",
   "execution_count": 11,
   "metadata": {},
   "outputs": [
    {
     "name": "stdout",
     "output_type": "stream",
     "text": [
      "Start state: Sleep\n",
      "Outcome states: ['Sleep', 'Work', 'Sleep', 'Work']\n",
      "End state after 3 days: Work\n",
      "Probability of states: 0.175\n"
     ]
    }
   ],
   "source": [
    "prediction(\"Sleep\", 3)"
   ]
  },
  {
   "cell_type": "code",
   "execution_count": null,
   "metadata": {},
   "outputs": [],
   "source": []
  },
  {
   "cell_type": "code",
   "execution_count": null,
   "metadata": {},
   "outputs": [],
   "source": []
  },
  {
   "cell_type": "code",
   "execution_count": null,
   "metadata": {},
   "outputs": [],
   "source": []
  }
 ],
 "metadata": {
  "kernelspec": {
   "display_name": "VPython",
   "language": "python",
   "name": "vpython"
  },
  "language_info": {
   "codemirror_mode": {
    "name": "ipython",
    "version": 3
   },
   "file_extension": ".py",
   "mimetype": "text/x-python",
   "name": "python",
   "nbconvert_exporter": "python",
   "pygments_lexer": "ipython3",
   "version": "3.6.5"
  }
 },
 "nbformat": 4,
 "nbformat_minor": 2
}
